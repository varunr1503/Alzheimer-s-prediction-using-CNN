{
 "cells": [
  {
   "cell_type": "code",
   "execution_count": 2,
   "id": "897768e1-08e9-4275-843f-9e7e88de91cb",
   "metadata": {},
   "outputs": [],
   "source": [
    "trainpath=\"Alzheimer_s Dataset\\train\"\n",
    "testpath=\"Alzheimer_s Dataset\\test\""
   ]
  },
  {
   "cell_type": "code",
   "execution_count": 2,
   "id": "a750f469-ee38-4d12-878e-582bd5a58248",
   "metadata": {},
   "outputs": [],
   "source": [
    "import tensorflow\n",
    "from tensorflow.keras.layers import Dense,Flatten,Input,Dropout\n",
    "from tensorflow.keras.models import Model\n",
    "from tensorflow.keras.preprocessing import image\n",
    "from tensorflow.keras.preprocessing.image import ImageDataGenerator as IDG, load_img\n",
    "from tensorflow.keras.applications import Xception\n",
    "from tensorflow.keras import layers,models\n",
    "from tensorflow.keras.models import Sequential\n",
    "from tensorflow.keras.layers import SeparableConv2D,BatchNormalization,GlobalAveragePooling2D \n",
    "from tensorflow.keras.models import load_model\n",
    "from PIL import Image\n",
    "from tensorflow.keras.applications.xception import preprocess_input\n",
    "import numpy as np"
   ]
  },
  {
   "cell_type": "code",
   "execution_count": null,
   "id": "a288eda0-4254-4b93-9285-266a008f4e34",
   "metadata": {},
   "outputs": [],
   "source": [
    "img_size=180\n",
    "img_size_dim=[180,180]\n",
    "dimension=(img_size,img_size)\n",
    "zoom=[0.99,1.01]\n",
    "bright=[0.8,1.2]\n",
    "fill_mode='constant'\n",
    "data_format='channels_last'\n",
    "dir='Alzheimer_s Dataset\\train'\n",
    "data_gen=IDG(rescale=1./255,brightness_range=bright,zoom_range=zoom,data_format=data_format,fill_mode=fill_mode,horizontal_flip=True)\n",
    "train_data_gen=data_gen.flow_from_directory(directory=dir,target_size=dimension,batch_size=6000,shuffle=False)"
   ]
  },
  {
   "cell_type": "code",
   "execution_count": null,
   "id": "952709d8-de1b-4258-bdfe-bce835852558",
   "metadata": {},
   "outputs": [
    {
     "name": "stdout",
     "output_type": "stream",
     "text": [
      "(5121, 180, 180, 3) (5121, 4)\n"
     ]
    }
   ],
   "source": [
    "train_data,train_labels=train_data_gen.next()\n",
    "print(train_data.shape,train_labels.shape)"
   ]
  },
  {
   "cell_type": "code",
   "execution_count": null,
   "id": "50170167-c3d7-4702-91df-7f4425994577",
   "metadata": {},
   "outputs": [
    {
     "name": "stdout",
     "output_type": "stream",
     "text": [
      "(10240, 180, 180, 3) (10240, 4)\n"
     ]
    }
   ],
   "source": [
    "#handling imbalanced classes\n",
    "from imblearn.over_sampling import SMOTE\n",
    "sm=SMOTE(random_state=47)\n",
    "train_data,train_labels=sm.fit_resample(train_data.reshape(-1,img_size*img_size*3),train_labels)\n",
    "train_data=train_data.reshape(-1,img_size,img_size,3)\n",
    "print(train_data.shape,train_labels.shape)"
   ]
  },
  {
   "cell_type": "code",
   "execution_count": null,
   "id": "5e4719ad-6fc1-44a2-8ad0-f71a2018862d",
   "metadata": {},
   "outputs": [],
   "source": [
    "from sklearn.model_selection import train_test_split\n",
    "train_data,test_data,train_labels,test_labels = train_test_split(train_data,train_labels,test_size=0.2,random_state=47)\n",
    "train_data,val_data,train_labels,val_labels = train_test_split(train_data,train_labels,test_size=0.2,random_state=47)"
   ]
  },
  {
   "cell_type": "code",
   "execution_count": null,
   "id": "6d8ad9fd-4b84-46f8-9940-a513c8f3d3b3",
   "metadata": {},
   "outputs": [
    {
     "name": "stdout",
     "output_type": "stream",
     "text": [
      "Model: \"sequential_4\"\n",
      "_________________________________________________________________\n",
      " Layer (type)                Output Shape              Param #   \n",
      "=================================================================\n",
      " conv2d_20 (Conv2D)          (None, 178, 178, 32)      896       \n",
      "                                                                 \n",
      " max_pooling2d_8 (MaxPoolin  (None, 89, 89, 32)        0         \n",
      " g2D)                                                            \n",
      "                                                                 \n",
      " conv2d_21 (Conv2D)          (None, 87, 87, 64)        18496     \n",
      "                                                                 \n",
      " max_pooling2d_9 (MaxPoolin  (None, 43, 43, 64)        0         \n",
      " g2D)                                                            \n",
      "                                                                 \n",
      " flatten_6 (Flatten)         (None, 118336)            0         \n",
      "                                                                 \n",
      " dense_22 (Dense)            (None, 64)                7573568   \n",
      "                                                                 \n",
      " dense_23 (Dense)            (None, 4)                 260       \n",
      "                                                                 \n",
      "=================================================================\n",
      "Total params: 7593220 (28.97 MB)\n",
      "Trainable params: 7593220 (28.97 MB)\n",
      "Non-trainable params: 0 (0.00 Byte)\n",
      "_________________________________________________________________\n"
     ]
    }
   ],
   "source": [
    "import tensorflow as tf\n",
    "from tensorflow.keras import layers, models\n",
    "\n",
    "# Create a Sequential model\n",
    "model = models.Sequential()\n",
    "\n",
    "# Add the first convolutional layer with 32 filters, a 3x3 kernel, and ReLU activation\n",
    "model.add(layers.Conv2D(32, (3, 3), activation='relu', input_shape=(180, 180, 3)))\n",
    "\n",
    "# Add a max pooling layer with a 2x2 pool size\n",
    "model.add(layers.MaxPooling2D((2, 2)))\n",
    "\n",
    "# Add a flattening layer to convert the 3D feature maps to 1D feature vectors\n",
    "model.add(layers.Flatten())\n",
    "\n",
    "# Add a fully connected layer with 64 units and ReLU activation\n",
    "model.add(layers.Dense(32, activation='relu'))\n",
    "\n",
    "# Add the output layer with 10 units (assuming 10 classes) and softmax activation for classification\n",
    "model.add(layers.Dense(4, activation='softmax'))\n",
    "\n",
    "# Compile the model with the Adam optimizer and categorical cross-entropy loss function\n",
    "model.compile(optimizer='adam', loss='categorical_crossentropy', metrics=mt)\n",
    "\n",
    "# Print a summary of the model architecture\n",
    "model.summary()"
   ]
  },
  {
   "cell_type": "code",
   "execution_count": null,
   "id": "2f8f6dc2-0f93-489a-9a54-a5286371a240",
   "metadata": {},
   "outputs": [],
   "source": [
    "mt=[tensorflow.keras.metrics.CategoricalAccuracy(name='Accuracy'),tensorflow.keras.metrics.AUC(name='AUC')]"
   ]
  },
  {
   "cell_type": "code",
   "execution_count": null,
   "id": "37897d43-9030-4085-b3d9-0a25705e33be",
   "metadata": {},
   "outputs": [
    {
     "name": "stdout",
     "output_type": "stream",
     "text": [
      "Epoch 1/5\n",
      "132/132 [==============================] - 51s 380ms/step - loss: 1.1607 - Accuracy: 0.5405 - AUC: 0.7985 - val_loss: 0.7170 - val_Accuracy: 0.6501 - val_AUC: 0.9048\n",
      "Epoch 2/5\n",
      "132/132 [==============================] - 50s 376ms/step - loss: 0.5293 - Accuracy: 0.7744 - AUC: 0.9507 - val_loss: 0.4600 - val_Accuracy: 0.8141 - val_AUC: 0.9629\n",
      "Epoch 3/5\n",
      "132/132 [==============================] - 48s 362ms/step - loss: 0.3661 - Accuracy: 0.8560 - AUC: 0.9764 - val_loss: 0.4032 - val_Accuracy: 0.8313 - val_AUC: 0.9700\n",
      "Epoch 4/5\n",
      "132/132 [==============================] - 48s 360ms/step - loss: 0.2091 - Accuracy: 0.9220 - AUC: 0.9924 - val_loss: 0.3342 - val_Accuracy: 0.8637 - val_AUC: 0.9793\n",
      "Epoch 5/5\n",
      "132/132 [==============================] - 47s 355ms/step - loss: 0.1539 - Accuracy: 0.9442 - AUC: 0.9956 - val_loss: 0.4511 - val_Accuracy: 0.8437 - val_AUC: 0.9671\n"
     ]
    }
   ],
   "source": [
    "train_stat=model.fit(train_data,train_labels,validation_data=(val_data,val_labels),epochs=5)"
   ]
  },
  {
   "cell_type": "code",
   "execution_count": null,
   "id": "212bf458-6222-435d-bff9-4b645e2cc9ce",
   "metadata": {},
   "outputs": [],
   "source": [
    "from keras.models import Model\n",
    "\n",
    "def freeze_layers(model):\n",
    "    for i in model.layers:\n",
    "        i.trainable = False\n",
    "        if isinstance(i, Model):\n",
    "            freeze_layers(i)\n",
    "    return model"
   ]
  },
  {
   "cell_type": "code",
   "execution_count": null,
   "id": "853ff945-edf8-40de-9312-55aa094ba3c0",
   "metadata": {},
   "outputs": [
    {
     "name": "stderr",
     "output_type": "stream",
     "text": [
      "C:\\Python311\\Lib\\site-packages\\keras\\src\\engine\\training.py:3000: UserWarning: You are saving your model as an HDF5 file via `model.save()`. This file format is considered legacy. We recommend using instead the native Keras format, e.g. `model.save('my_model.keras')`.\n",
      "  saving_api.save_model(\n"
     ]
    }
   ],
   "source": [
    "model_freezed = freeze_layers(model)\n",
    "model_freezed.save('alzheimer_3.h5')"
   ]
  },
  {
   "cell_type": "code",
   "execution_count": null,
   "id": "8b465f6a-8975-4e2b-8dd4-9a6b555324c5",
   "metadata": {},
   "outputs": [
    {
     "name": "stdout",
     "output_type": "stream",
     "text": [
      "Model: \"sequential_4\"\n",
      "_________________________________________________________________\n",
      " Layer (type)                Output Shape              Param #   \n",
      "=================================================================\n",
      " conv2d_20 (Conv2D)          (None, 178, 178, 32)      896       \n",
      "                                                                 \n",
      " max_pooling2d_8 (MaxPoolin  (None, 89, 89, 32)        0         \n",
      " g2D)                                                            \n",
      "                                                                 \n",
      " conv2d_21 (Conv2D)          (None, 87, 87, 64)        18496     \n",
      "                                                                 \n",
      " max_pooling2d_9 (MaxPoolin  (None, 43, 43, 64)        0         \n",
      " g2D)                                                            \n",
      "                                                                 \n",
      " flatten_6 (Flatten)         (None, 118336)            0         \n",
      "                                                                 \n",
      " dense_22 (Dense)            (None, 64)                7573568   \n",
      "                                                                 \n",
      " dense_23 (Dense)            (None, 4)                 260       \n",
      "                                                                 \n",
      "=================================================================\n",
      "Total params: 7593220 (28.97 MB)\n",
      "Trainable params: 0 (0.00 Byte)\n",
      "Non-trainable params: 7593220 (28.97 MB)\n",
      "_________________________________________________________________\n"
     ]
    }
   ],
   "source": [
    "model_freezed.summary()"
   ]
  },
  {
   "cell_type": "code",
   "execution_count": null,
   "id": "a17c1f91-e5c9-4851-85b3-dc2a6ca9bc48",
   "metadata": {},
   "outputs": [],
   "source": [
    "test_model=load_model(\"alzheimer_3.h5\")"
   ]
  },
  {
   "cell_type": "code",
   "execution_count": null,
   "id": "c192dcf4-2f3d-4ada-b12e-f430fad1851f",
   "metadata": {},
   "outputs": [],
   "source": [
    "img=image.load_img(\"Alzheimer_s Dataset\\test\\NonDemented\\26 (62).jpg\")\n",
    "img=img.resize((180,180))"
   ]
  },
  {
   "cell_type": "code",
   "execution_count": null,
   "id": "e9a195e1-85eb-4298-a369-5abf64f161ba",
   "metadata": {},
   "outputs": [],
   "source": [
    "x=image.img_to_array(img)\n",
    "x=np.expand_dims(x,axis=0)\n",
    "img_data=preprocess_input(x)"
   ]
  },
  {
   "cell_type": "code",
   "execution_count": null,
   "id": "9cfbe0e1-eb72-48d6-9ac3-0d62532ca483",
   "metadata": {},
   "outputs": [
    {
     "name": "stdout",
     "output_type": "stream",
     "text": [
      "1/1 [==============================] - 0s 28ms/step\n",
      "2\n"
     ]
    }
   ],
   "source": [
    "print(np.argmax(test_model.predict(x),axis=1)[0])"
   ]
  },
  {
   "cell_type": "code",
   "execution_count": null,
   "id": "5d1987b2-5c0d-4a42-a6e2-02065a8b08d6",
   "metadata": {},
   "outputs": [],
   "source": []
  },
  {
   "cell_type": "code",
   "execution_count": null,
   "id": "b3ea2dde",
   "metadata": {},
   "outputs": [],
   "source": []
  },
  {
   "cell_type": "code",
   "execution_count": null,
   "id": "956e7113",
   "metadata": {},
   "outputs": [],
   "source": []
  }
 ],
 "metadata": {
  "kernelspec": {
   "display_name": "Python 3 (ipykernel)",
   "language": "python",
   "name": "python3"
  },
  "language_info": {
   "codemirror_mode": {
    "name": "ipython",
    "version": 3
   },
   "file_extension": ".py",
   "mimetype": "text/x-python",
   "name": "python",
   "nbconvert_exporter": "python",
   "pygments_lexer": "ipython3",
   "version": "3.11.5"
  }
 },
 "nbformat": 4,
 "nbformat_minor": 5
}
